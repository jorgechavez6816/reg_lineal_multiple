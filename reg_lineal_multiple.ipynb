{
 "cells": [
  {
   "cell_type": "code",
   "execution_count": null,
   "metadata": {},
   "outputs": [],
   "source": [
    "#Instalar en consola cmd: pip3 install xlrd\n",
    "#Instalar en consola cmd: pip3 install csv\n",
    "#Instalar en consola anaconda: conda install -c anaconda csvkit\n",
    "\n",
    "#1. Importar librerias a utilizar\n",
    "import pandas as pd\n",
    "import csv\n",
    "import numpy as np\n",
    "from sklearn import linear_model\n",
    "from sklearn.linear_model import LinearRegression\n",
    "from sklearn.metrics import mean_squared_error\n",
    "\n",
    "#2. Obtener data\n",
    "df = pd.read_excel('C:\\\\Users\\\\Intel\\\\Documents\\\\Mis documentos IDEA\\\\Samples\\Exportaciones.ILB\\\\Tabladinámica1.xlsx', index_col=0)\n",
    "print(df)\n",
    "print(df.shape)\n",
    "data_top=df.head()\n",
    "df.head()\n",
    "\n",
    "#3. Seleccionar las columnas de trabajo\n",
    "y_multiple = df['TOTAL']\n",
    "x_multiple = df[['COD_PROD_04', 'COD_PROD_05', 'COD_PROD_06']]\n",
    "\n",
    "#4. Dividir la data entre test y train\n",
    "reg = LinearRegression()\n",
    "reg = reg.fit(x_multiple, y_multiple)\n",
    "y_pred = reg.predict(x_multiple)\n",
    "error = np.sqrt(mean_squared_error(y_multiple, y_pred))\n",
    "r2 = reg.score(x_multiple, y_multiple)\n",
    "resultado = reg.coef_\n",
    "#5. Dividir target en test y train\n",
    "#6. Crear objeto de regresión lineal\n",
    "\n",
    "#7. Entrenar el modelo usando test testing\n",
    "#8. Obtener el resultado de coeficientes\n",
    "print(reg.coef_)\n",
    "print(reg.intercept_)\n",
    "\n",
    "#9. Obtener el Mean squared error\n",
    "#print(error)\n",
    "\n",
    "#10. Obtener el Coefficient of determination\n",
    "print(r2)\n",
    "\n",
    "#11. Exportar resultados a csv\n",
    "myData = [['COD_PROD_04', 'COD_PROD_05', 'COD_PROD_06', 'Constante'], [reg.coef_, reg.intercept_]]\n",
    "myFile = open('C:\\\\Users\\\\Intel\\\\Documents\\\\Mis documentos IDEA\\\\Samples\\Exportaciones.ILB\\\\Regresion_Multiple01.csv', 'w')\n",
    "with myFile:\n",
    "   writer = csv.writer(myFile)\n",
    "   writer.writerows(myData)"
   ]
  },
  {
   "cell_type": "code",
   "execution_count": null,
   "metadata": {},
   "outputs": [],
   "source": [
    "#12. Predicción a nivel de prueba\n",
    "COD_PROD_04 = 1000\n",
    "COD_PROD_05 = 100\n",
    "COD_PROD_06 = 20\n",
    "print(\"Valor : \\n\", reg.predict([[COD_PROD_04,COD_PROD_05,COD_PROD_06]]))"
   ]
  }
 ],
 "metadata": {
  "kernelspec": {
   "display_name": "Python 3",
   "language": "python",
   "name": "python3"
  },
  "language_info": {
   "codemirror_mode": {
    "name": "ipython",
    "version": 3
   },
   "file_extension": ".py",
   "mimetype": "text/x-python",
   "name": "python",
   "nbconvert_exporter": "python",
   "pygments_lexer": "ipython3",
   "version": "3.7.6"
  }
 },
 "nbformat": 4,
 "nbformat_minor": 4
}
