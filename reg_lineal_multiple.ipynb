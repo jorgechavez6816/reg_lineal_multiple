{
 "cells": [
  {
   "cell_type": "code",
   "execution_count": 12,
   "metadata": {},
   "outputs": [
    {
     "name": "stdout",
     "output_type": "stream",
     "text": [
      "              COD_PROD_01  COD_PROD_02  COD_PROD_03  COD_PROD_04  COD_PROD_05  \\\n",
      "NUM_VENDEDOR                                                                    \n",
      "101                  0.00         0.00         0.00         0.00     26692.04   \n",
      "102                  0.00       371.09      3557.18     46503.60    194158.09   \n",
      "103                  0.00         0.00      4717.13         0.00    194349.14   \n",
      "104                  0.00         0.00      2474.57    331454.41    102821.38   \n",
      "105                  0.00         0.00     11212.86    139510.80    114266.45   \n",
      "107                  0.00         0.00      1469.27     26158.28    180788.99   \n",
      "108                  0.00         0.00         0.00     25111.94    126983.24   \n",
      "109                  0.00         0.00         0.00     52316.55     87893.43   \n",
      "110                  0.00         0.00         0.00         0.00    264469.30   \n",
      "111              12354.50      1627.07      5799.76     69174.11     88872.46   \n",
      "112              23231.82         0.00         0.00         0.00    144127.81   \n",
      "113                  0.00         0.00      6225.07     58129.50    158300.74   \n",
      "114                  0.00         0.00         0.00         0.00     59834.72   \n",
      "115                  0.00         0.00      8699.63      3487.77     85854.69   \n",
      "116                  0.00         0.00         0.00         0.00     81314.90   \n",
      "117                  0.00         0.00      4949.12         0.00     69079.10   \n",
      "118                  0.00         0.00      1623.93         0.00    187318.71   \n",
      "119                  0.00         0.00      2010.58         0.00     51763.22   \n",
      "120                  0.00         0.00     10014.24     14183.60    113330.82   \n",
      "121                  0.00         0.00      8815.63         0.00    104580.62   \n",
      "122                  0.00         0.00      2629.22         0.00     49786.47   \n",
      "123                  0.00         0.00      5026.46     17438.85    162425.46   \n",
      "124                  0.00      2626.14       850.63         0.00    147817.62   \n",
      "125                  0.00         0.00     12256.81         0.00    120717.11   \n",
      "126                  0.00         0.00     16316.63     62896.12    117244.68   \n",
      "127                  0.00         0.00      3866.50      8603.17    160442.17   \n",
      "128                  0.00      3368.31       270.66         0.00     29182.68   \n",
      "\n",
      "              COD_PROD_06       TOTAL  \n",
      "NUM_VENDEDOR                           \n",
      "101                  0.00    26692.04  \n",
      "102                  0.00   244589.96  \n",
      "103                  0.00   199066.27  \n",
      "104             147573.16   584323.52  \n",
      "105                  0.00   264990.11  \n",
      "107                  0.00   208416.54  \n",
      "108            4289854.50  4441949.68  \n",
      "109                  0.00   140209.98  \n",
      "110                  0.00   264469.30  \n",
      "111                  0.00   177827.90  \n",
      "112                  0.00   167359.63  \n",
      "113                  0.00   222655.31  \n",
      "114                  0.00    59834.72  \n",
      "115                  0.00    98042.09  \n",
      "116                  0.00    81314.90  \n",
      "117                  0.00    74028.22  \n",
      "118            3890106.19  4079048.83  \n",
      "119                  0.00    53773.80  \n",
      "120                  0.00   137528.66  \n",
      "121                  0.00   113396.25  \n",
      "122                  0.00    52415.69  \n",
      "123                  0.00   184890.77  \n",
      "124                  0.00   151294.39  \n",
      "125                  0.00   132973.92  \n",
      "126                  0.00   196457.43  \n",
      "127                  0.00   172911.84  \n",
      "128                  0.00    32821.65  \n",
      "(27, 7)\n"
     ]
    }
   ],
   "source": [
    "#Regresión lineal múltiple\n",
    "\n",
    "#1. Importar de librerias a utilizar\n",
    "import pandas as pd\n",
    "import csv\n",
    "import numpy as np\n",
    "from sklearn import linear_model\n",
    "from sklearn.linear_model import LinearRegression\n",
    "from sklearn.metrics import mean_squared_error\n",
    "import matplotlib.pyplot as plt\n",
    "\n",
    "#2. Obtener data de origen\n",
    "df = pd.read_excel('C:\\\\Users\\\\Intel\\\\Documents\\\\Mis documentos IDEA\\\\Samples\\Exportaciones.ILB\\\\Tabladinámica1.xlsx', index_col=0)\n",
    "print(df)\n",
    "print(df.shape)\n",
    "data_top=df.head()\n",
    "df.head()\n",
    "\n",
    "#3. Selección de columnas de trabajo\n",
    "y_multiple = df['TOTAL']\n",
    "x_multiple = df[['COD_PROD_04', 'COD_PROD_05', 'COD_PROD_06']]\n",
    "\n"
   ]
  },
  {
   "cell_type": "code",
   "execution_count": 13,
   "metadata": {},
   "outputs": [],
   "source": [
    "#4. Definición del algoritmo a utilizar\n",
    "reg = LinearRegression()\n",
    "\n",
    "#5. Entrenamiento del modelo\n",
    "reg = reg.fit(x_multiple, y_multiple)\n",
    "\n",
    "#6. Ejecución de predicción\n",
    "y_pred = reg.predict(x_multiple)"
   ]
  },
  {
   "cell_type": "code",
   "execution_count": 14,
   "metadata": {},
   "outputs": [
    {
     "name": "stdout",
     "output_type": "stream",
     "text": [
      "\n",
      "DATOS DEL MODELO VECTORES DE SOPORTE REGRESIÓN\n",
      "\n",
      "Margen Error del modelo:\n",
      "5928.951929731781\n",
      "Precisión del modelo:\n",
      "0.9999698548268169\n",
      "Valor de la pendiente o coeficiente \"a\":\n",
      "[1.00466919 1.00527598 0.99862544]\n",
      "Valor de la intersección o coeficiente \"b\":\n",
      "5437.317986735376\n"
     ]
    }
   ],
   "source": [
    "#7. Impresión de información resumen\n",
    "\n",
    "print()\n",
    "print('DATOS DEL MODELO VECTORES DE SOPORTE REGRESIÓN')\n",
    "print()\n",
    "print('Margen Error del modelo:')\n",
    "print(np.sqrt(mean_squared_error(y_multiple, y_pred)))\n",
    "\n",
    "print('Precisión del modelo:')\n",
    "print(reg.score(x_multiple, y_multiple))\n",
    "\n",
    "print('Valor de la pendiente o coeficiente \"a\":')\n",
    "print(reg.coef_)\n",
    "\n",
    "print('Valor de la intersección o coeficiente \"b\":')\n",
    "print(reg.intercept_)"
   ]
  },
  {
   "cell_type": "code",
   "execution_count": 15,
   "metadata": {},
   "outputs": [],
   "source": [
    "#8. Exportación a archivo csv\n",
    "myData = [['COD_PROD_04', 'COD_PROD_05', 'COD_PROD_06', 'Constante'], [reg.coef_, reg.intercept_]]\n",
    "myFile = open('C:\\\\Users\\\\Intel\\\\Documents\\\\Mis documentos IDEA\\\\Samples\\Exportaciones.ILB\\\\Regresion_Multiple01.csv', 'w')\n",
    "with myFile:\n",
    "   writer = csv.writer(myFile)\n",
    "   writer.writerows(myData)"
   ]
  },
  {
   "cell_type": "code",
   "execution_count": 16,
   "metadata": {},
   "outputs": [
    {
     "name": "stdout",
     "output_type": "stream",
     "text": [
      "Valor : \n",
      " [6562.48728768]\n"
     ]
    }
   ],
   "source": [
    "#9. Predicción a nivel de prueba\n",
    "COD_PROD_04 = 1000\n",
    "COD_PROD_05 = 100\n",
    "COD_PROD_06 = 20\n",
    "print(\"Valor : \\n\", reg.predict([[COD_PROD_04,COD_PROD_05,COD_PROD_06]]))"
   ]
  },
  {
   "cell_type": "code",
   "execution_count": null,
   "metadata": {},
   "outputs": [],
   "source": []
  }
 ],
 "metadata": {
  "kernelspec": {
   "display_name": "Python 3",
   "language": "python",
   "name": "python3"
  },
  "language_info": {
   "codemirror_mode": {
    "name": "ipython",
    "version": 3
   },
   "file_extension": ".py",
   "mimetype": "text/x-python",
   "name": "python",
   "nbconvert_exporter": "python",
   "pygments_lexer": "ipython3",
   "version": "3.7.6"
  }
 },
 "nbformat": 4,
 "nbformat_minor": 4
}
